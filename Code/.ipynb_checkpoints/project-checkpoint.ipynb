{
 "cells": [
  {
   "cell_type": "code",
   "execution_count": 1,
   "id": "b07d210d",
   "metadata": {},
   "outputs": [],
   "source": [
    "import cv2\n",
    "import os\n",
    "import numpy as np\n",
    "import matplotlib\n",
    "from matplotlib import pyplot as plt\n",
    "import matplotlib.image as mpimg\n",
    "%matplotlib inline\n",
    "eye_cascade = cv2.CascadeClassifier('./opencv/haarcascades/haarcascade_eye.xml')"
   ]
  },
  {
   "cell_type": "code",
   "execution_count": 2,
   "id": "acead534",
   "metadata": {},
   "outputs": [],
   "source": [
    "def show(img,text=\"image\"):\n",
    "    cv2.imshow(text, img)\n",
    "    cv2.waitKey(0)\n",
    "    cv2.destroyAllWindows()"
   ]
  },
  {
   "cell_type": "code",
   "execution_count": 3,
   "id": "75763673",
   "metadata": {},
   "outputs": [],
   "source": [
    "def get_left_rigth_cropped_eyes(img):\n",
    "    \n",
    "    eye_cascade = cv2.CascadeClassifier('./opencv/haarcascades/haarcascade_eye.xml')\n",
    "    \n",
    "    eyes = eye_cascade.detectMultiScale(img)\n",
    "    \n",
    "    if len(eyes) < 2 :\n",
    "        return [0],[0]\n",
    "    \n",
    "    (x1,y1,w1,h1) = eyes[0]\n",
    "    (x2,y2,w2,h2) = eyes[1]\n",
    "    \n",
    "    left_croped = img[y2:y2+h2, x2:x2+w2]\n",
    "    rigth_croped = img[y1:y1+h1, x1:x1+w1]\n",
    "    \n",
    "    return left_croped,rigth_croped"
   ]
  },
  {
   "cell_type": "code",
   "execution_count": 4,
   "id": "d93b647e",
   "metadata": {},
   "outputs": [],
   "source": [
    "def valide_radius(circles):\n",
    "    l = []\n",
    "    for item in circles:\n",
    "        X = item[0][0]\n",
    "        Y = item[0][1]\n",
    "        R = item[1]\n",
    "        \n",
    "        if R < 33 and R > 10:\n",
    "            if Y < 240 and Y > 60:\n",
    "                l.append([(X,Y),R])\n",
    "    return l"
   ]
  },
  {
   "cell_type": "code",
   "execution_count": 5,
   "id": "e18ae344",
   "metadata": {},
   "outputs": [],
   "source": [
    "def find_pupil(img):\n",
    "    gray_img= cv2.cvtColor(img, cv2.COLOR_BGR2GRAY)\n",
    "    #show(gray_img)\n",
    "    gray_img= cv2.GaussianBlur(gray_img, (7,7),0)\n",
    "    #show(gray_img)\n",
    "    \n",
    "    \n",
    "    _, threshold = cv2.threshold(gray_img,25,255, cv2.THRESH_BINARY_INV)\n",
    "    show(threshold)\n",
    "    \n",
    "    contours, heirarchy = cv2.findContours(threshold, cv2.RETR_TREE, cv2.CHAIN_APPROX_SIMPLE)\n",
    "    contour = sorted(contours, key=lambda x: cv2.contourArea(x), reverse=True)\n",
    "    \n",
    "    circles = [] \n",
    "    \n",
    "    for cnt in contour:\n",
    "        (x, y, w, h) = cv2.boundingRect(cnt)\n",
    "        #cv2.drawContours(img, [cnt], -1, (0,0,255), 3)\n",
    "        \n",
    "        #cv2.rectangle(img, (x, y), (x+w, y+h), (0,0,255), 2)\n",
    "        \n",
    "        (cx,cy), radius = cv2.minEnclosingCircle(cnt)\n",
    "        \n",
    "        center = (int(cx), int(cy))\n",
    "        radius = int(radius)\n",
    "        \n",
    "        circles.append([center,radius])\n",
    "        \n",
    "    valide_points = valide_radius(circles)\n",
    "    \n",
    "    if len(valide_points) == 0:\n",
    "        valide_points.append(circles[0])\n",
    "    \n",
    "    #print(valide_points)\n",
    "    X = valide_points[0][0][0]\n",
    "    Y = valide_points[0][0][1]\n",
    "    R = valide_points[0][1]\n",
    "    \n",
    "    cv2.circle(img, (X,Y), R, (255,0,255), 2)\n",
    "        \n",
    "    return [img,R]"
   ]
  },
  {
   "cell_type": "code",
   "execution_count": 6,
   "id": "9b0df786",
   "metadata": {},
   "outputs": [],
   "source": [
    "def anisocoria_result(img):\n",
    "    left_cropped,rigth_cropped = get_left_rigth_cropped_eyes(img)\n",
    "    \n",
    "    if len(left_cropped) == 1 or len(rigth_cropped) == 1:\n",
    "        print(\"Eyes not detected\")\n",
    "        return\n",
    "        \n",
    "    left_img = cv2.resize(left_cropped,(300,300))\n",
    "    rigth_img = cv2.resize(rigth_cropped,(300,300))\n",
    "    \n",
    "    show(left_img)\n",
    "    show(rigth_img)\n",
    "    \n",
    "    l_result = find_pupil(left_img)\n",
    "    r_result = find_pupil(rigth_img)\n",
    "    \n",
    "    print(\"Left Pupil Radius :\",l_result[1])\n",
    "    print(\"rigth Pupil Radius :\",r_result[1])\n",
    "    \n",
    "    show(l_result[0])\n",
    "    show(r_result[0])"
   ]
  },
  {
   "cell_type": "code",
   "execution_count": 7,
   "id": "b70af65a",
   "metadata": {},
   "outputs": [
    {
     "name": "stdout",
     "output_type": "stream",
     "text": [
      "Left Pupil Radius : 15\n",
      "rigth Pupil Radius : 29\n"
     ]
    }
   ],
   "source": [
    "img = cv2.imread('./Dataset_anisocoria/test_images/test_1.jpg')\n",
    "show(img)\n",
    "anisocoria_result(img)"
   ]
  },
  {
   "cell_type": "code",
   "execution_count": null,
   "id": "61829879",
   "metadata": {},
   "outputs": [],
   "source": []
  },
  {
   "cell_type": "code",
   "execution_count": null,
   "id": "281de998",
   "metadata": {},
   "outputs": [],
   "source": []
  },
  {
   "cell_type": "code",
   "execution_count": null,
   "id": "8c53c9d3",
   "metadata": {},
   "outputs": [],
   "source": []
  },
  {
   "cell_type": "code",
   "execution_count": 8,
   "id": "514930ac",
   "metadata": {},
   "outputs": [
    {
     "ename": "NameError",
     "evalue": "name 'sdfghjk' is not defined",
     "output_type": "error",
     "traceback": [
      "\u001b[1;31m---------------------------------------------------------------------------\u001b[0m",
      "\u001b[1;31mNameError\u001b[0m                                 Traceback (most recent call last)",
      "\u001b[1;32m~\\AppData\\Local\\Temp\\ipykernel_2244\\3337114621.py\u001b[0m in \u001b[0;36m<module>\u001b[1;34m\u001b[0m\n\u001b[1;32m----> 1\u001b[1;33m \u001b[0msdfghjk\u001b[0m\u001b[1;33m\u001b[0m\u001b[1;33m\u001b[0m\u001b[0m\n\u001b[0m",
      "\u001b[1;31mNameError\u001b[0m: name 'sdfghjk' is not defined"
     ]
    }
   ],
   "source": [
    "sdfghjk"
   ]
  },
  {
   "cell_type": "code",
   "execution_count": null,
   "id": "a4a53753",
   "metadata": {},
   "outputs": [],
   "source": [
    "l,r = get_left_rigth_cropped_eyes(img)\n",
    "if len(l) == 1 or len(r)==1:\n",
    "    print(len([0]))\n",
    "    print(\"Eyes not detected\")\n",
    "    print(r)"
   ]
  },
  {
   "cell_type": "code",
   "execution_count": null,
   "id": "8b7f1ba3",
   "metadata": {},
   "outputs": [],
   "source": [
    "l = cv2.resize(l,(300,300))\n",
    "#show(l)\n",
    "r = cv2.resize(r,(300,300))\n",
    "#show(r)"
   ]
  },
  {
   "cell_type": "code",
   "execution_count": null,
   "id": "8f79748c",
   "metadata": {},
   "outputs": [],
   "source": [
    "arr = find_pupil(l)"
   ]
  },
  {
   "cell_type": "code",
   "execution_count": null,
   "id": "c87b746c",
   "metadata": {},
   "outputs": [],
   "source": [
    "arr[1]\n",
    "#show(img)"
   ]
  },
  {
   "cell_type": "code",
   "execution_count": null,
   "id": "8f7b52bc",
   "metadata": {},
   "outputs": [],
   "source": [
    "show(find_pupil(l))"
   ]
  },
  {
   "cell_type": "code",
   "execution_count": null,
   "id": "73a7675f",
   "metadata": {},
   "outputs": [],
   "source": [
    "# center = (168, 167)\n",
    "# radius =  20\n",
    "# show(cv2.circle(r, center, radius, (255,0,255), 2))"
   ]
  },
  {
   "cell_type": "code",
   "execution_count": null,
   "id": "3188353e",
   "metadata": {},
   "outputs": [],
   "source": []
  },
  {
   "cell_type": "raw",
   "id": "74057bb0",
   "metadata": {},
   "source": [
    "cv2.imwrite('./Dataset_anisocoria/Cropped_img/t1.png',l)\n",
    "cv2.imwrite('./Dataset_anisocoria/Cropped_img/t2.png',r)"
   ]
  },
  {
   "cell_type": "code",
   "execution_count": null,
   "id": "acaedebd",
   "metadata": {},
   "outputs": [],
   "source": [
    "dfgh"
   ]
  },
  {
   "cell_type": "code",
   "execution_count": null,
   "id": "20c154d1",
   "metadata": {},
   "outputs": [],
   "source": [
    "path_to_raw_data = \"./Dataset_anisocoria/Raw_img/\"\n",
    "path_to_renamed_data = \"./Dataset_anisocoria/renamed_dataset/\"\n",
    "path_for_cropped = \"./Dataset_anisocoria/Cropped_img\"\n",
    "img_paths = []\n",
    "img_names = []"
   ]
  },
  {
   "cell_type": "code",
   "execution_count": null,
   "id": "cc063de2",
   "metadata": {},
   "outputs": [],
   "source": [
    "for entry in os.scandir(path_to_raw_data):\n",
    "    img_paths.append(entry.path)\n",
    "    #print(entry.path)"
   ]
  },
  {
   "cell_type": "code",
   "execution_count": null,
   "id": "4b256814",
   "metadata": {},
   "outputs": [],
   "source": [
    "print('Total Image :',len(img_paths))\n",
    "print('Image1 path :',img_paths[0])"
   ]
  },
  {
   "cell_type": "code",
   "execution_count": null,
   "id": "2d09e5c1",
   "metadata": {},
   "outputs": [],
   "source": [
    "count = 0\n",
    "# os.makedirs(path_to_renamed_data)\n",
    "# os.makedirs(path_for_cropped)\n",
    "\n",
    "for img_path in img_paths:\n",
    "    count += 1\n",
    "    img = cv2.imread(img_path)\n",
    "    \n",
    "    img_name = 'anisocoria_img_' + str(count)\n",
    "    \n",
    "    new_file_name = img_name + \".png\"\n",
    "    \n",
    "    img_names.append(path_to_renamed_data+new_file_name)\n",
    "    \n",
    "    new_file_path = path_to_renamed_data + \"/\" + new_file_name\n",
    "    \n",
    "    cv2.imwrite(new_file_path, img)\n",
    "    \n",
    "print(count)\n",
    "print(img_names[0])"
   ]
  },
  {
   "cell_type": "code",
   "execution_count": null,
   "id": "a3e6a7f8",
   "metadata": {},
   "outputs": [],
   "source": [
    "# show(cv2.imread(img_names[1]))"
   ]
  },
  {
   "cell_type": "code",
   "execution_count": null,
   "id": "4fbd2ce3",
   "metadata": {},
   "outputs": [],
   "source": [
    "for img_path in img_names:\n",
    "    img = cv2.imread(img_path)\n",
    "    \n",
    "    left_cropped,rigth_cropped = get_left_rigth_cropped_eyes(img)\n",
    "    \n",
    "    if len(left_cropped) == 1 or len(rigth_cropped)==1:\n",
    "        print(img_path)\n",
    "        continue\n",
    "    left_cropped = cv2.resize(left_cropped,(300,300))\n",
    "    rigth_cropped = cv2.resize(rigth_cropped,(300,300))\n",
    "    \n",
    "    show(rigth_cropped)\n",
    "#     img_name = img_path.split('/')[-1][:-4]\n",
    "    \n",
    "#     new_dir = path_for_cropped +'/'+ img_name\n",
    "#     os.makedirs(new_dir)\n",
    "    \n",
    "#     left_path = new_dir + '/left.png'\n",
    "#     rigth_path = new_dir + '/rigth.png'\n",
    "    \n",
    "#     cv2.imwrite(left_path, left_cropped)\n",
    "#     cv2.imwrite(rigth_path, rigth_cropped)"
   ]
  },
  {
   "cell_type": "code",
   "execution_count": null,
   "id": "a9746978",
   "metadata": {},
   "outputs": [],
   "source": [
    "for entry in os.scandir(path_for_cropped):\n",
    "    print(entry.path)\n",
    "    for e in os.scandir(entry.path):\n",
    "        print(e.path)\n",
    "    "
   ]
  },
  {
   "cell_type": "code",
   "execution_count": null,
   "id": "48064066",
   "metadata": {},
   "outputs": [],
   "source": []
  }
 ],
 "metadata": {
  "kernelspec": {
   "display_name": "Python 3 (ipykernel)",
   "language": "python",
   "name": "python3"
  },
  "language_info": {
   "codemirror_mode": {
    "name": "ipython",
    "version": 3
   },
   "file_extension": ".py",
   "mimetype": "text/x-python",
   "name": "python",
   "nbconvert_exporter": "python",
   "pygments_lexer": "ipython3",
   "version": "3.9.13"
  }
 },
 "nbformat": 4,
 "nbformat_minor": 5
}
